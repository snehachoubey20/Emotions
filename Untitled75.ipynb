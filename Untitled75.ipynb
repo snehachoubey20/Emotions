{
  "cells": [
    {
      "cell_type": "code",
      "execution_count": null,
      "metadata": {
        "colab": {
          "base_uri": "https://localhost:8080/"
        },
        "id": "Owq7Lk9rS9wc",
        "outputId": "21de69ad-6609-41d4-c630-196f05d22601"
      },
      "outputs": [
        {
          "name": "stdout",
          "output_type": "stream",
          "text": [
            "  My favourite food is anything I didn't have to cook myself.  27  eebbqej\n",
            "0  Now if he does off himself, everyone will thin...           27  ed00q6i\n",
            "1                     WHY THE FUCK IS BAYLESS ISOING            2  eezlygj\n",
            "2                        To make her feel threatened           14  ed7ypvh\n",
            "3                             Dirty Southern Wankers            3  ed0bdzj\n",
            "4  OmG pEyToN iSn'T gOoD eNoUgH tO hElP uS iN tHe...           26  edvnz26\n"
          ]
        }
      ],
      "source": [
        "import pandas as pd\n",
        "\n",
        "# Specify the path to your TSV file\n",
        "tsv_file_path = '/content/train.tsv'\n",
        "\n",
        "# Load the TSV file into a Pandas DataFrame\n",
        "train_df = pd.read_csv(tsv_file_path, sep='\\t')\n",
        "\n",
        "# Display the first few rows of the DataFrame to verify\n",
        "print(train_df.head())"
      ]
    },
    {
      "cell_type": "code",
      "execution_count": null,
      "metadata": {
        "id": "u2SwzEORTAwI"
      },
      "outputs": [],
      "source": [
        "train_df = pd.read_csv(tsv_file_path, sep='\\t', header=None, names=['Text', 'Emotion_ID', 'ID'])"
      ]
    },
    {
      "cell_type": "code",
      "execution_count": null,
      "metadata": {
        "colab": {
          "base_uri": "https://localhost:8080/"
        },
        "id": "4gMcqLGOTAzf",
        "outputId": "c5c989ab-3b60-4c46-d159-0869e4c297b6"
      },
      "outputs": [
        {
          "name": "stdout",
          "output_type": "stream",
          "text": [
            "['27' '2' '14' '3' '26' '15' '8,20' '0' '6' '1,4' '5' '3,12' '6,22'\n",
            " '6,9,27' '12' '16,25' '2,7' '17' '25' '0,15' '15,18' '16,27' '7,13' '10'\n",
            " '20' '4' '13,15' '0,1' '13' '1' '0,5' '0,13,15' '9' '4,22' '24' '18' '7'\n",
            " '6,7' '22' '9,27' '4,5' '2,3' '0,8,15,17' '11' '7,15' '3,9,26' '13,18'\n",
            " '23' '1,27' '7,18' '10,22' '4,15' '0,26' '10,27' '1,26' '5,27' '8,27'\n",
            " '17,20' '10,20' '3,24' '2,27' '4,8' '3,27' '0,7' '8,18' '17,26' '3,9'\n",
            " '21' '18,27' '0,4' '4,7' '0,20' '16' '10,11' '0,1,17' '7,26' '14,26'\n",
            " '17,23' '24,25' '9,25' '3,22' '1,18' '1,5' '7,10' '0,18' '3,10' '7,25'\n",
            " '6,9' '3,18' '8' '0,27' '3,10,11' '3,6' '0,4,20' '0,25' '19' '15,17'\n",
            " '7,27' '25,27' '1,17' '4,17' '0,17' '0,4,26' '2,11' '22,27' '1,20'\n",
            " '13,26' '20,26' '15,27' '9,18' '1,25' '6,7,9,26' '6,22,27' '5,7' '4,27'\n",
            " '2,10' '2,9,25' '9,10,25' '13,17' '4,8,20,22' '1,22' '0,15,17' '1,10,18'\n",
            " '15,26' '15,25' '15,17,18' '9,11' '9,22' '2,3,9' '6,10' '1,3,8' '3,25'\n",
            " '0,6' '10,18' '4,6' '1,15' '4,17,20' '9,24' '7,24,25' '5,10' '0,10'\n",
            " '0,1,4' '5,24' '7,11' '0,15,18' '0,13' '7,12' '9,26' '4,20' '8,25' '9,17'\n",
            " '3,8' '6,7,27' '6,7,14' '2,9' '7,22' '0,23' '9,10' '14,19' '1,6' '11,25'\n",
            " '4,20,27' '4,10' '5,25' '3,4' '11,27' '15,24' '3,15' '5,20' '7,13,17'\n",
            " '11,14' '1,10' '20,27' '3,20' '5,22' '26,27' '6,8' '20,25' '0,8,15'\n",
            " '15,21' '12,27' '4,18' '0,17,20' '14,27' '3,9,27' '15,20' '14,22' '6,13'\n",
            " '4,11' '4,14' '22,25' '0,8' '17,27' '9,14' '0,9' '9,20' '9,19' '17,18'\n",
            " '22,26' '2,3,10' '19,22' '1,15,17' '18,26' '2,3,10,11' '0,14,26' '1,3'\n",
            " '15,22' '0,4,18' '7,20' '17,22' '0,4,5,17' '15,23' '10,19' '10,25' '6,26'\n",
            " '13,17,21' '9,20,25' '1,13' '0,22' '0,8,20' '8,9,20' '10,12' '3,11'\n",
            " '12,25' '6,27' '8,9' '13,27' '0,8,18' '2,11,12' '1,24' '6,7,22' '1,2'\n",
            " '2,11,27' '10,14' '6,18' '1,11' '4,25' '13,17,22' '0,21' '5,6' '5,18'\n",
            " '3,5' '9,10,27' '10,24' '1,7,15' '1,7' '4,15,23' '12,22' '1,20,24' '4,26'\n",
            " '5,8' '2,6' '6,15,26' '7,17' '23,27' '10,21' '1,12,20' '4,17,22' '13,22'\n",
            " '2,3,5' '2,9,11' '9,24,25' '14,18' '4,9' '21,27' '2,3,22' '0,15,26'\n",
            " '5,17' '4,23' '20,24' '8,14' '5,8,20' '8,15' '8,10' '7,10,17' '6,11'\n",
            " '5,9,25' '0,3' '2,20' '1,15,22' '4,21' '8,22' '6,15' '22,24' '6,15,22'\n",
            " '8,24' '11,20' '13,20' '5,15' '17,25' '16,19' '3,7,20' '0,10,15,22'\n",
            " '18,22' '18,24' '4,15,24' '0,15,27' '18,20' '3,13' '12,16' '2,3,27'\n",
            " '2,15' '11,15' '0,5,15' '1,9,22' '6,7,15' '2,25' '5,7,10' '16,26' '7,24'\n",
            " '13,17,18' '6,14' '0,18,25' '8,11' '0,14' '11,22' '5,13' '19,27' '3,17'\n",
            " '0,17,18' '5,14,19' '0,20,21' '7,9,26' '6,25' '2,22' '1,18,24' '13,23'\n",
            " '7,18,25' '0,6,27' '3,7' '10,15' '8,20,22' '10,26' '0,24' '13,17,18,26'\n",
            " '16,24,25' '14,25' '11,18' '3,9,25' '12,22,24' '2,3,11' '4,9,25,27'\n",
            " '19,25' '7,9' '20,22' '12,17' '2,23' '5,7,19' '6,24' '8,15,20' '4,18,20'\n",
            " '13,21' '9,12,14,19,25' '1,14' '2,5' '12,24' '2,4' '4,7,18' '11,24'\n",
            " '4,22,27' '0,6,10' '3,9,17' '18,19,25' '4,5,20' '5,23' '18,23' '13,17,20'\n",
            " '5,14' '8,13' '5,11,18' '7,10,11' '3,10,25' '9,22,25' '2,26' '2,3,4'\n",
            " '9,15' '2,3,24' '7,14' '1,8' '2,4,5' '7,14,22' '3,26' '3,6,7' '8,17'\n",
            " '2,3,15' '0,10,18' '0,13,18' '1,3,17' '1,15,20' '12,18' '3,11,25' '6,17'\n",
            " '0,3,4' '25,26' '3,14' '7,19' '14,22,25' '5,20,27' '1,3,10' '0,1,12'\n",
            " '6,17,18' '4,24' '8,11,18' '2,3,7' '5,26' '0,5,20' '12,14' '11,13'\n",
            " '0,18,22' '11,12' '0,1,13' '4,13' '0,6,7' '2,17' '0,4,22' '6,7,26'\n",
            " '0,4,13' '1,23' '11,19' '3,9,11' '0,1,7' '20,23' '5,7,20' '4,20,21'\n",
            " '24,27' '0,24,27' '20,24,25' '5,19' '4,13,26' '0,4,9' '3,8,20' '8,13,17'\n",
            " '1,9' '0,4,9,18' '0,4,15' '3,7,10' '7,11,25' '7,8' '1,2,3' '0,4,7,26'\n",
            " '5,20,25' '12,14,27' '0,2' '7,9,25' '5,15,23' '5,9,20' '20,21' '13,15,17'\n",
            " '6,12,25' '4,8,20' '2,18' '12,26' '6,7,9' '2,10,25' '5,25,27' '1,15,18'\n",
            " '18,25' '2,14' '3,21' '0,4,5' '3,4,7' '3,23' '5,18,27' '2,24' '17,21'\n",
            " '8,17,18' '4,18,27' '0,11,12' '4,20,22' '6,19' '1,10,27' '5,9' '6,7,10'\n",
            " '3,9,22' '3,10,12' '4,5,17' '4,17,27' '14,20' '9,10,24,25' '3,9,10'\n",
            " '2,10,15' '18,19' '1,7,20' '0,4,17,22' '15,18,20' '3,6,10' '10,23'\n",
            " '0,3,15' '1,12' '4,8,27' '14,17' '5,24,25' '7,15,20' '5,13,18,20' '4,19'\n",
            " '7,9,24,25' '7,10,25' '9,10,19' '5,16' '8,20,27' '0,11' '2,4,18'\n",
            " '22,26,27' '1,21' '24,26' '16,24' '1,11,20' '9,12' '0,4,17' '5,20,24'\n",
            " '1,3,22' '1,17,18' '18,20,27' '9,10,22' '18,20,25' '0,6,15' '1,4,10'\n",
            " '12,20' '3,6,25' '2,11,25' '9,15,22' '0,9,15' '13,15,17,20' '3,8,22'\n",
            " '3,14,25' '8,9,25' '0,6,7,15' '10,11,27' '9,13' '0,13,22' '0,9,18'\n",
            " '5,20,22' '5,15,18' '1,17,20' '3,15,23' '0,18,27' '0,5,18' '10,17,22'\n",
            " '14,24,25' '4,8,22' '0,13,17' '0,3,11' '4,13,20' '14,20,25' '13,22,26'\n",
            " '2,3,6' '11,14,20' '2,9,12' '0,15,20' '4,14,25' '0,14,25' '4,15,20'\n",
            " '1,10,15' '1,22,25' '1,13,17' '22,23' '5,15,17' '7,26,27' '2,12' '1,6,7'\n",
            " '15,20,24' '0,4,11,22' '9,12,22' '1,15,25' '17,24' '6,18,24' '2,10,11'\n",
            " '9,16' '1,13,26' '0,9,25' '10,13,17' '2,14,19' '0,4,11' '3,4,22' '0,4,24'\n",
            " '14,24' '0,7,13' '5,10,17' '1,6,7,17' '6,7,8' '4,9,22' '1,6,15' '7,10,27'\n",
            " '4,5,27' '4,22,24' '5,12,20' '10,17' '19,20' '6,20' '0,18,20' '9,14,20'\n",
            " '20,22,25' '2,18,27' '8,13,18' '3,15,20' '19,26' '8,10,20' '0,8,17'\n",
            " '7,23' '14,17,19' '9,17,18,25' '0,7,22' '11,17' '2,19' '6,12' '4,7,27'\n",
            " '3,10,27' '15,17,20' '4,5,18' '7,11,15' '5,8,22' '6,7,24' '14,19,27'\n",
            " '1,8,20' '0,14,19' '6,18,20' '6,23' '12,20,21' '15,16,25' '13,17,26'\n",
            " '11,17,23' '0,7,15' '3,19' '10,13' '2,3,12' '14,15' '4,12' '2,5,10'\n",
            " '1,17,27' '3,11,14' '8,18,20' '4,9,11' '3,6,14' '0,4,13,17' '0,3,9,18'\n",
            " '7,8,13' '2,9,10' '1,3,27' '7,18,26' '0,8,22' '1,14,19' '3,4,27'\n",
            " '9,12,25' '0,16' '0,13,26' '2,3,21' '2,3,26' '7,10,22' '0,21,26'\n",
            " '2,3,11,25' '15,24,25' '14,15,25' '0,5,15,18' '1,15,17,23' '5,16,25'\n",
            " '1,4,20' '13,24' '0,20,25' '7,15,26' '8,13,20' '1,6,17' '17,20,25'\n",
            " '3,9,24' '4,7,8' '10,20,25' '8,26' '2,8' '0,4,25' '9,25,27' '9,22,27'\n",
            " '5,11,20' '1,3,9' '7,20,26' '5,12' '0,1,11' '1,14,17' '5,9,10' '3,15,22'\n",
            " '3,4,20' '19,23' '0,15,22' '3,20,27' '3,7,27' '0,11,20' '5,7,15'\n",
            " '15,25,26' '8,16' '13,25' '6,10,18' '0,20,22' '3,9,16' '4,13,27' '1,19'\n",
            " '13,15,20' '3,7,11' '1,4,22' '9,10,11' '1,3,20' '3,16,25' '0,15,24,25'\n",
            " '0,10,13' '7,22,26' '1,6,26' '13,20,21' '5,14,27' '7,18,22' '0,12,13,26'\n",
            " '1,2,5,17' '13,14' '3,9,12' '0,1,18']\n"
          ]
        }
      ],
      "source": [
        "print(train_df['Emotion_ID'].unique())"
      ]
    },
    {
      "cell_type": "code",
      "execution_count": null,
      "metadata": {
        "id": "uPduCvWVTdp4"
      },
      "outputs": [],
      "source": [
        "emotions_file = '/content/emotions.txt'\n",
        "with open(emotions_file, 'r') as f:\n",
        "    emotions = [line.strip() for line in f.readlines()]"
      ]
    },
    {
      "cell_type": "code",
      "execution_count": null,
      "metadata": {
        "id": "f3o2LBs-TdtN"
      },
      "outputs": [],
      "source": [
        "emotion_ids = train_df['Emotion_ID'].tolist()  # Assuming 'emotion_id' is the column name\n",
        "\n",
        "# Example mapping from emotion ID to emotion\n",
        "emotion_id_to_emotion = {str(i): emotions[i] for i in range(len(emotions))}"
      ]
    },
    {
      "cell_type": "code",
      "execution_count": null,
      "metadata": {
        "id": "T7ThU_joTykr"
      },
      "outputs": [],
      "source": [
        "for index, row in train_df.iterrows():\n",
        "    emotion_id = str(row['Emotion_ID'])  # Convert to string to match keys in dictionary\n",
        "    if emotion_id in emotion_id_to_emotion:\n",
        "        emotion_code = emotion_id_to_emotion[emotion_id]\n",
        "        # Assign emotion code to text or perform further processing\n",
        "        train_df.at[index, 'emotion_code'] = emotion_code\n",
        "    else:\n",
        "        # Handle cases where emotion ID does not have a corresponding emotion in your mapping\n",
        "        train_df.at[index, 'emotion_code'] = 'Unknown'"
      ]
    },
    {
      "cell_type": "code",
      "execution_count": null,
      "metadata": {
        "colab": {
          "base_uri": "https://localhost:8080/"
        },
        "id": "FGmMCs22TzKh",
        "outputId": "0bc7303e-de6e-4998-d369-6adf5fe4cf52"
      },
      "outputs": [
        {
          "name": "stdout",
          "output_type": "stream",
          "text": [
            "                                                Text Emotion_ID       ID  \\\n",
            "0  My favourite food is anything I didn't have to...         27  eebbqej   \n",
            "1  Now if he does off himself, everyone will thin...         27  ed00q6i   \n",
            "2                     WHY THE FUCK IS BAYLESS ISOING          2  eezlygj   \n",
            "3                        To make her feel threatened         14  ed7ypvh   \n",
            "4                             Dirty Southern Wankers          3  ed0bdzj   \n",
            "\n",
            "  emotion_code  Valid_Emotion  \n",
            "0      neutral          False  \n",
            "1      neutral          False  \n",
            "2        anger          False  \n",
            "3         fear          False  \n",
            "4    annoyance          False  \n"
          ]
        }
      ],
      "source": [
        "valid_emotion_ids = set(range(len(emotions)))\n",
        "train_df['Valid_Emotion'] = train_df['Emotion_ID'].apply(lambda x: x in valid_emotion_ids)\n",
        "print(train_df.head())"
      ]
    },
    {
      "cell_type": "code",
      "execution_count": null,
      "metadata": {
        "id": "QDXbVunmT-Ey"
      },
      "outputs": [],
      "source": [
        "emotion_id_to_emotion = {str(i): emotions[i] for i in range(len(emotions))}"
      ]
    },
    {
      "cell_type": "code",
      "execution_count": null,
      "metadata": {
        "id": "vOsDZNwRT-ct"
      },
      "outputs": [],
      "source": [
        "def map_emotion_ids(emotion_ids):\n",
        "    # Split emotion IDs by comma and map each ID to its corresponding emotion\n",
        "    return [emotion_id_to_emotion.get(eid.strip(), 'Unknown') for eid in emotion_ids.split(',')]"
      ]
    },
    {
      "cell_type": "code",
      "execution_count": null,
      "metadata": {
        "colab": {
          "base_uri": "https://localhost:8080/"
        },
        "id": "I_KQQdQJTos7",
        "outputId": "bd0afbd3-577f-47d8-f6dc-9bd654e29a45"
      },
      "outputs": [
        {
          "name": "stdout",
          "output_type": "stream",
          "text": [
            "                                                 Text Emotion_ID       ID  \\\n",
            "0   My favourite food is anything I didn't have to...         27  eebbqej   \n",
            "1   Now if he does off himself, everyone will thin...         27  ed00q6i   \n",
            "2                      WHY THE FUCK IS BAYLESS ISOING          2  eezlygj   \n",
            "3                         To make her feel threatened         14  ed7ypvh   \n",
            "4                              Dirty Southern Wankers          3  ed0bdzj   \n",
            "5   OmG pEyToN iSn'T gOoD eNoUgH tO hElP uS iN tHe...         26  edvnz26   \n",
            "6   Yes I heard abt the f bombs! That has to be wh...         15  ee3b6wu   \n",
            "7   We need more boards and to create a bit more s...       8,20  ef4qmod   \n",
            "8   Damn youtube and outrage drama is super lucrat...          0  ed8wbdn   \n",
            "9   It might be linked to the trust factor of your...         27  eczgv1o   \n",
            "10  Demographics? I don’t know anybody under 35 wh...          6  eel6g5h   \n",
            "11  Aww... she'll probably come around eventually,...        1,4  edex4ki   \n",
            "12  Hello everyone. Im from Toronto as well. Can c...         27  ef83m1s   \n",
            "13  R/sleeptrain Might be time for some sleep trai...          5  efh7xnk   \n",
            "14  [NAME] - same fucking problem, slightly better...          3  efdqav7   \n",
            "\n",
            "   emotion_code  Valid_Emotion           Emotion_List  \n",
            "0       neutral          False              [neutral]  \n",
            "1       neutral          False              [neutral]  \n",
            "2         anger          False                [anger]  \n",
            "3          fear          False                 [fear]  \n",
            "4     annoyance          False            [annoyance]  \n",
            "5      surprise          False             [surprise]  \n",
            "6     gratitude          False            [gratitude]  \n",
            "7       Unknown          False     [desire, optimism]  \n",
            "8    admiration          False           [admiration]  \n",
            "9       neutral          False              [neutral]  \n",
            "10    confusion          False            [confusion]  \n",
            "11      Unknown          False  [amusement, approval]  \n",
            "12      neutral          False              [neutral]  \n",
            "13       caring          False               [caring]  \n",
            "14    annoyance          False            [annoyance]  \n"
          ]
        }
      ],
      "source": [
        "train_df['Emotion_List'] = train_df['Emotion_ID'].apply(map_emotion_ids)\n",
        "\n",
        "# Display the DataFrame to see the results\n",
        "print(train_df.head(15))"
      ]
    },
    {
      "cell_type": "code",
      "execution_count": null,
      "metadata": {
        "colab": {
          "base_uri": "https://localhost:8080/"
        },
        "id": "woawxD7zUK6z",
        "outputId": "5649c911-8c78-429c-dddb-e330c50c6a3b"
      },
      "outputs": [
        {
          "name": "stdout",
          "output_type": "stream",
          "text": [
            "<class 'pandas.core.frame.DataFrame'>\n",
            "RangeIndex: 43410 entries, 0 to 43409\n",
            "Data columns (total 6 columns):\n",
            " #   Column         Non-Null Count  Dtype \n",
            "---  ------         --------------  ----- \n",
            " 0   Text           43410 non-null  object\n",
            " 1   Emotion_ID     43410 non-null  object\n",
            " 2   ID             43410 non-null  object\n",
            " 3   emotion_code   43410 non-null  object\n",
            " 4   Valid_Emotion  43410 non-null  bool  \n",
            " 5   Emotion_List   43410 non-null  object\n",
            "dtypes: bool(1), object(5)\n",
            "memory usage: 1.7+ MB\n"
          ]
        }
      ],
      "source": [
        "train_df.info()"
      ]
    },
    {
      "cell_type": "code",
      "execution_count": null,
      "metadata": {
        "id": "3c3YB5HVUhXh"
      },
      "outputs": [],
      "source": [
        "X = train_df['Text'].astype(str)\n",
        "y = train_df['Emotion_List']"
      ]
    },
    {
      "cell_type": "code",
      "execution_count": null,
      "metadata": {
        "id": "So4RBB2vUhoR"
      },
      "outputs": [],
      "source": [
        "from sklearn.feature_extraction.text import TfidfVectorizer\n",
        "from sklearn.ensemble import RandomForestClassifier\n",
        "from sklearn.multioutput import MultiOutputClassifier\n",
        "from sklearn.metrics import classification_report\n",
        "from sklearn.model_selection import train_test_split"
      ]
    },
    {
      "cell_type": "code",
      "execution_count": null,
      "metadata": {
        "id": "mBfs5ObxbB8V"
      },
      "outputs": [],
      "source": [
        "tfidf_vectorizer = TfidfVectorizer(max_features=10000, ngram_range=(1, 2))\n",
        "X_tfidf = tfidf_vectorizer.fit_transform(X)"
      ]
    },
    {
      "cell_type": "code",
      "execution_count": null,
      "metadata": {
        "id": "KdtVUzLebHhU"
      },
      "outputs": [],
      "source": [
        "rf_classifier = RandomForestClassifier(n_estimators=100, random_state=42)\n",
        "multi_label_classifier = MultiOutputClassifier(rf_classifier, n_jobs=-1)"
      ]
    },
    {
      "cell_type": "code",
      "execution_count": null,
      "metadata": {
        "id": "XAyr1zAXbMnR"
      },
      "outputs": [],
      "source": [
        "X_train, X_test, y_train, y_test = train_test_split(X_tfidf, y, test_size=0.2, random_state=42)\n"
      ]
    },
    {
      "cell_type": "code",
      "execution_count": null,
      "metadata": {
        "id": "ZatqcVJWcPEH"
      },
      "outputs": [],
      "source": [
        "multi_label_classifier.fit(X_train, y_train)"
      ]
    },
    {
      "cell_type": "code",
      "execution_count": null,
      "metadata": {
        "id": "_GE4vQyCbRE-"
      },
      "outputs": [],
      "source": [
        "from sklearn.preprocessing import MultiLabelBinarizer\n",
        "\n",
        "mlb = MultiLabelBinarizer()\n",
        "y_labels = mlb.fit_transform(train_df['Emotion_List'])\n"
      ]
    },
    {
      "cell_type": "code",
      "execution_count": null,
      "metadata": {
        "id": "HFb7GABlbRIs"
      },
      "outputs": [],
      "source": [
        "tfidf_vectorizer = TfidfVectorizer(max_features=10000, ngram_range=(1, 2))\n",
        "X_tfidf = tfidf_vectorizer.fit_transform(train_df['Text'].astype(str))"
      ]
    },
    {
      "cell_type": "code",
      "execution_count": null,
      "metadata": {
        "id": "TTCgwhiSj4A2"
      },
      "outputs": [],
      "source": [
        "rf_classifier = RandomForestClassifier(n_estimators=100, random_state=42)\n",
        "multi_label_classifier = MultiOutputClassifier(rf_classifier, n_jobs=-1)"
      ]
    },
    {
      "cell_type": "code",
      "execution_count": null,
      "metadata": {
        "id": "D2Ew3_k5j7sT"
      },
      "outputs": [],
      "source": [
        "X_train, X_test, y_train, y_test = train_test_split(X_tfidf, y_labels, test_size=0.2, random_state=42)"
      ]
    },
    {
      "cell_type": "code",
      "execution_count": null,
      "metadata": {
        "colab": {
          "background_save": true
        },
        "id": "qUoQee8bj74T",
        "outputId": "740183c8-df5d-4a3e-83e5-dc75fe52bd42"
      },
      "outputs": [
        {
          "data": {
            "text/html": [
              "<style>#sk-container-id-1 {color: black;background-color: white;}#sk-container-id-1 pre{padding: 0;}#sk-container-id-1 div.sk-toggleable {background-color: white;}#sk-container-id-1 label.sk-toggleable__label {cursor: pointer;display: block;width: 100%;margin-bottom: 0;padding: 0.3em;box-sizing: border-box;text-align: center;}#sk-container-id-1 label.sk-toggleable__label-arrow:before {content: \"▸\";float: left;margin-right: 0.25em;color: #696969;}#sk-container-id-1 label.sk-toggleable__label-arrow:hover:before {color: black;}#sk-container-id-1 div.sk-estimator:hover label.sk-toggleable__label-arrow:before {color: black;}#sk-container-id-1 div.sk-toggleable__content {max-height: 0;max-width: 0;overflow: hidden;text-align: left;background-color: #f0f8ff;}#sk-container-id-1 div.sk-toggleable__content pre {margin: 0.2em;color: black;border-radius: 0.25em;background-color: #f0f8ff;}#sk-container-id-1 input.sk-toggleable__control:checked~div.sk-toggleable__content {max-height: 200px;max-width: 100%;overflow: auto;}#sk-container-id-1 input.sk-toggleable__control:checked~label.sk-toggleable__label-arrow:before {content: \"▾\";}#sk-container-id-1 div.sk-estimator input.sk-toggleable__control:checked~label.sk-toggleable__label {background-color: #d4ebff;}#sk-container-id-1 div.sk-label input.sk-toggleable__control:checked~label.sk-toggleable__label {background-color: #d4ebff;}#sk-container-id-1 input.sk-hidden--visually {border: 0;clip: rect(1px 1px 1px 1px);clip: rect(1px, 1px, 1px, 1px);height: 1px;margin: -1px;overflow: hidden;padding: 0;position: absolute;width: 1px;}#sk-container-id-1 div.sk-estimator {font-family: monospace;background-color: #f0f8ff;border: 1px dotted black;border-radius: 0.25em;box-sizing: border-box;margin-bottom: 0.5em;}#sk-container-id-1 div.sk-estimator:hover {background-color: #d4ebff;}#sk-container-id-1 div.sk-parallel-item::after {content: \"\";width: 100%;border-bottom: 1px solid gray;flex-grow: 1;}#sk-container-id-1 div.sk-label:hover label.sk-toggleable__label {background-color: #d4ebff;}#sk-container-id-1 div.sk-serial::before {content: \"\";position: absolute;border-left: 1px solid gray;box-sizing: border-box;top: 0;bottom: 0;left: 50%;z-index: 0;}#sk-container-id-1 div.sk-serial {display: flex;flex-direction: column;align-items: center;background-color: white;padding-right: 0.2em;padding-left: 0.2em;position: relative;}#sk-container-id-1 div.sk-item {position: relative;z-index: 1;}#sk-container-id-1 div.sk-parallel {display: flex;align-items: stretch;justify-content: center;background-color: white;position: relative;}#sk-container-id-1 div.sk-item::before, #sk-container-id-1 div.sk-parallel-item::before {content: \"\";position: absolute;border-left: 1px solid gray;box-sizing: border-box;top: 0;bottom: 0;left: 50%;z-index: -1;}#sk-container-id-1 div.sk-parallel-item {display: flex;flex-direction: column;z-index: 1;position: relative;background-color: white;}#sk-container-id-1 div.sk-parallel-item:first-child::after {align-self: flex-end;width: 50%;}#sk-container-id-1 div.sk-parallel-item:last-child::after {align-self: flex-start;width: 50%;}#sk-container-id-1 div.sk-parallel-item:only-child::after {width: 0;}#sk-container-id-1 div.sk-dashed-wrapped {border: 1px dashed gray;margin: 0 0.4em 0.5em 0.4em;box-sizing: border-box;padding-bottom: 0.4em;background-color: white;}#sk-container-id-1 div.sk-label label {font-family: monospace;font-weight: bold;display: inline-block;line-height: 1.2em;}#sk-container-id-1 div.sk-label-container {text-align: center;}#sk-container-id-1 div.sk-container {/* jupyter's `normalize.less` sets `[hidden] { display: none; }` but bootstrap.min.css set `[hidden] { display: none !important; }` so we also need the `!important` here to be able to override the default hidden behavior on the sphinx rendered scikit-learn.org. See: https://github.com/scikit-learn/scikit-learn/issues/21755 */display: inline-block !important;position: relative;}#sk-container-id-1 div.sk-text-repr-fallback {display: none;}</style><div id=\"sk-container-id-1\" class=\"sk-top-container\"><div class=\"sk-text-repr-fallback\"><pre>MultiOutputClassifier(estimator=RandomForestClassifier(random_state=42),\n",
              "                      n_jobs=-1)</pre><b>In a Jupyter environment, please rerun this cell to show the HTML representation or trust the notebook. <br />On GitHub, the HTML representation is unable to render, please try loading this page with nbviewer.org.</b></div><div class=\"sk-container\" hidden><div class=\"sk-item sk-dashed-wrapped\"><div class=\"sk-label-container\"><div class=\"sk-label sk-toggleable\"><input class=\"sk-toggleable__control sk-hidden--visually\" id=\"sk-estimator-id-1\" type=\"checkbox\" ><label for=\"sk-estimator-id-1\" class=\"sk-toggleable__label sk-toggleable__label-arrow\">MultiOutputClassifier</label><div class=\"sk-toggleable__content\"><pre>MultiOutputClassifier(estimator=RandomForestClassifier(random_state=42),\n",
              "                      n_jobs=-1)</pre></div></div></div><div class=\"sk-parallel\"><div class=\"sk-parallel-item\"><div class=\"sk-item\"><div class=\"sk-label-container\"><div class=\"sk-label sk-toggleable\"><input class=\"sk-toggleable__control sk-hidden--visually\" id=\"sk-estimator-id-2\" type=\"checkbox\" ><label for=\"sk-estimator-id-2\" class=\"sk-toggleable__label sk-toggleable__label-arrow\">estimator: RandomForestClassifier</label><div class=\"sk-toggleable__content\"><pre>RandomForestClassifier(random_state=42)</pre></div></div></div><div class=\"sk-serial\"><div class=\"sk-item\"><div class=\"sk-estimator sk-toggleable\"><input class=\"sk-toggleable__control sk-hidden--visually\" id=\"sk-estimator-id-3\" type=\"checkbox\" ><label for=\"sk-estimator-id-3\" class=\"sk-toggleable__label sk-toggleable__label-arrow\">RandomForestClassifier</label><div class=\"sk-toggleable__content\"><pre>RandomForestClassifier(random_state=42)</pre></div></div></div></div></div></div></div></div></div></div>"
            ],
            "text/plain": [
              "MultiOutputClassifier(estimator=RandomForestClassifier(random_state=42),\n",
              "                      n_jobs=-1)"
            ]
          },
          "execution_count": 25,
          "metadata": {},
          "output_type": "execute_result"
        }
      ],
      "source": [
        "multi_label_classifier.fit(X_train, y_train)"
      ]
    },
    {
      "cell_type": "code",
      "execution_count": 27,
      "metadata": {
        "id": "P7fOs-1HkGBQ"
      },
      "outputs": [],
      "source": [
        "y_pred = multi_label_classifier.predict(X_test)"
      ]
    },
    {
      "cell_type": "code",
      "source": [
        "print(classification_report(y_test, y_pred, target_names=mlb.classes_))"
      ],
      "metadata": {
        "colab": {
          "base_uri": "https://localhost:8080/"
        },
        "id": "EkIVyOfHnlrY",
        "outputId": "48724e25-757b-4060-8876-bcea4cfd7832"
      },
      "execution_count": 28,
      "outputs": [
        {
          "output_type": "stream",
          "name": "stdout",
          "text": [
            "                precision    recall  f1-score   support\n",
            "\n",
            "    admiration       0.75      0.49      0.60       863\n",
            "     amusement       0.75      0.74      0.75       453\n",
            "         anger       0.66      0.22      0.33       323\n",
            "     annoyance       0.43      0.05      0.10       483\n",
            "      approval       0.46      0.08      0.14       577\n",
            "        caring       0.77      0.08      0.15       212\n",
            "     confusion       0.63      0.07      0.13       258\n",
            "     curiosity       0.75      0.10      0.17       460\n",
            "        desire       0.62      0.18      0.28       128\n",
            "disappointment       0.58      0.06      0.11       244\n",
            "   disapproval       0.47      0.05      0.09       383\n",
            "       disgust       0.85      0.21      0.34       156\n",
            " embarrassment       0.89      0.14      0.24        58\n",
            "    excitement       0.54      0.15      0.23       175\n",
            "          fear       0.67      0.29      0.41       116\n",
            "     gratitude       0.97      0.83      0.89       544\n",
            "         grief       0.00      0.00      0.00        14\n",
            "           joy       0.55      0.27      0.36       314\n",
            "          love       0.75      0.74      0.74       437\n",
            "   nervousness       1.00      0.03      0.06        35\n",
            "       neutral       0.64      0.30      0.41      2812\n",
            "      optimism       0.66      0.36      0.47       324\n",
            "         pride       0.00      0.00      0.00        24\n",
            "   realization       0.41      0.06      0.10       223\n",
            "        relief       0.00      0.00      0.00        27\n",
            "       remorse       0.60      0.22      0.32       110\n",
            "       sadness       0.73      0.26      0.38       276\n",
            "      surprise       0.76      0.27      0.40       205\n",
            "\n",
            "     micro avg       0.71      0.31      0.43     10234\n",
            "     macro avg       0.60      0.22      0.29     10234\n",
            "  weighted avg       0.65      0.31      0.39     10234\n",
            "   samples avg       0.33      0.32      0.32     10234\n",
            "\n"
          ]
        },
        {
          "output_type": "stream",
          "name": "stderr",
          "text": [
            "/usr/local/lib/python3.10/dist-packages/sklearn/metrics/_classification.py:1344: UndefinedMetricWarning: Precision and F-score are ill-defined and being set to 0.0 in labels with no predicted samples. Use `zero_division` parameter to control this behavior.\n",
            "  _warn_prf(average, modifier, msg_start, len(result))\n",
            "/usr/local/lib/python3.10/dist-packages/sklearn/metrics/_classification.py:1344: UndefinedMetricWarning: Precision and F-score are ill-defined and being set to 0.0 in samples with no predicted labels. Use `zero_division` parameter to control this behavior.\n",
            "  _warn_prf(average, modifier, msg_start, len(result))\n"
          ]
        }
      ]
    }
  ],
  "metadata": {
    "colab": {
      "provenance": []
    },
    "kernelspec": {
      "display_name": "Python 3",
      "name": "python3"
    },
    "language_info": {
      "name": "python"
    }
  },
  "nbformat": 4,
  "nbformat_minor": 0
}